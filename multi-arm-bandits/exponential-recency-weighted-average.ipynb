{
 "cells": [
  {
   "cell_type": "code",
   "execution_count": 1,
   "metadata": {},
   "outputs": [],
   "source": [
    "import matplotlib.pyplot as plt\n",
    "import numpy as np\n",
    "import time\n",
    "import seaborn as sns\n",
    "import pandas as pd"
   ]
  },
  {
   "cell_type": "code",
   "execution_count": 2,
   "metadata": {},
   "outputs": [],
   "source": [
    "def get_reward(arms, action):\n",
    "    return np.random.normal(arms[action], 1)\n",
    "\n",
    "def update_Q_incrementaly(Q, reward, n):\n",
    "    return Q + (reward - Q) / n"
   ]
  },
  {
   "cell_type": "code",
   "execution_count": 3,
   "metadata": {},
   "outputs": [],
   "source": [
    "def run_incrementaly(e, n_steps=1000, n_iters=2000):\n",
    "    \n",
    "    stime = time.time()\n",
    "    rewards = np.zeros(n_steps)\n",
    "    optimals = np.zeros(n_steps)\n",
    "    iters = 0\n",
    "    \n",
    "    print(\"run e=%f\"%e)\n",
    "    \n",
    "    while iters < n_iters:\n",
    "\n",
    "        if iters % 100 == 0: print(\"%d/%d iters\"%(iters, n_iters))\n",
    "\n",
    "        steps = 0\n",
    "        Qs = np.zeros(10)\n",
    "        ns = np.zeros(10)\n",
    "        arms = np.zeros(10)\n",
    "        \n",
    "        \n",
    "        while steps < n_steps:\n",
    "            if np.random.rand() > e: A = np.argmax(Qs) #np.random.choice(np.argwhere(Qs == np.amax(Qs)).flatten(), 1)\n",
    "            else: A = np.random.randint(10)\n",
    "\n",
    "            optimal = A == np.argmax(arms)\n",
    "            \n",
    "            reward = get_reward(arms, A)\n",
    "            ns[A] += 1\n",
    "            Qs[A] = update_Q_incrementaly(Qs[A], reward, ns[A])\n",
    "\n",
    "            rewards[steps] += reward\n",
    "            optimals[steps] += optimal\n",
    "            \n",
    "            steps += 1\n",
    "            arms += np.random.normal(0, 0.01, 10)\n",
    "            \n",
    "            \n",
    "        iters += 1\n",
    "        \n",
    "    print(\"done in %fs \\n\"%(time.time()-stime))\n",
    "    return rewards/n_iters, optimals/n_iters"
   ]
  },
  {
   "cell_type": "code",
   "execution_count": 4,
   "metadata": {
    "scrolled": true
   },
   "outputs": [
    {
     "name": "stdout",
     "output_type": "stream",
     "text": [
      "run e=0.100000\n",
      "0/2000 iters\n",
      "100/2000 iters\n",
      "200/2000 iters\n",
      "300/2000 iters\n",
      "400/2000 iters\n",
      "500/2000 iters\n",
      "600/2000 iters\n",
      "700/2000 iters\n",
      "800/2000 iters\n",
      "900/2000 iters\n",
      "1000/2000 iters\n",
      "1100/2000 iters\n",
      "1200/2000 iters\n",
      "1300/2000 iters\n",
      "1400/2000 iters\n",
      "1500/2000 iters\n",
      "1600/2000 iters\n",
      "1700/2000 iters\n",
      "1800/2000 iters\n",
      "1900/2000 iters\n",
      "done in 1295.911392s \n",
      "\n"
     ]
    }
   ],
   "source": [
    "result_incremental = run_incrementaly(0.1, 5000, 2000)"
   ]
  },
  {
   "cell_type": "code",
   "execution_count": 5,
   "metadata": {},
   "outputs": [],
   "source": [
    "def run_erwa(e, n_steps=1000, n_iters=2000):\n",
    "    \n",
    "    stime = time.time()\n",
    "    rewards = np.zeros(n_steps)\n",
    "    optimals = np.zeros(n_steps)\n",
    "    iters = 0\n",
    "    alpha = 0.1\n",
    "    alpha_list = np.array([(1-alpha)**(n_steps-i) for i in range(1, n_steps+1)])\n",
    "    \n",
    "    print(\"run e=%f\"%e)\n",
    "\n",
    "    while iters < n_iters:\n",
    "\n",
    "        if iters % 100 == 0: print(\"%d/%d iters\"%(iters, n_iters))\n",
    "\n",
    "        steps = 0\n",
    "        Qs = np.zeros(10)\n",
    "        arms = np.zeros(10)\n",
    "\n",
    "        while steps < n_steps:\n",
    "            if np.random.rand() > e: A = np.argmax(Qs) #np.random.choice(np.argwhere(Qs == np.amax(Qs)).flatten(), 1)\n",
    "            else: A = np.random.randint(10)\n",
    "                \n",
    "            optimal = A == np.argmax(arms)\n",
    "\n",
    "            reward = get_reward(arms, A)\n",
    "            rewards[steps] += reward\n",
    "            optimals[steps] += optimal\n",
    "            \n",
    "            Qs[A] = Qs[A] + alpha * (reward - Qs[A])\n",
    "            \n",
    "            steps += 1\n",
    "            arms += np.random.normal(0, 0.01, 10)\n",
    "            \n",
    "            \n",
    "        iters += 1\n",
    "        \n",
    "    print(\"done in %fs \\n\"%(time.time()-stime))\n",
    "    \n",
    "    return rewards/n_iters, optimals/n_iters"
   ]
  },
  {
   "cell_type": "code",
   "execution_count": 6,
   "metadata": {
    "scrolled": true
   },
   "outputs": [
    {
     "name": "stdout",
     "output_type": "stream",
     "text": [
      "run e=0.100000\n",
      "0/2000 iters\n",
      "100/2000 iters\n",
      "200/2000 iters\n",
      "300/2000 iters\n",
      "400/2000 iters\n",
      "500/2000 iters\n",
      "600/2000 iters\n",
      "700/2000 iters\n",
      "800/2000 iters\n",
      "900/2000 iters\n",
      "1000/2000 iters\n",
      "1100/2000 iters\n",
      "1200/2000 iters\n",
      "1300/2000 iters\n",
      "1400/2000 iters\n",
      "1500/2000 iters\n",
      "1600/2000 iters\n",
      "1700/2000 iters\n",
      "1800/2000 iters\n",
      "1900/2000 iters\n",
      "done in 1233.557683s \n",
      "\n"
     ]
    }
   ],
   "source": [
    "result_erwa = run_erwa(0.1, 5000, 2000)"
   ]
  },
  {
   "cell_type": "code",
   "execution_count": 7,
   "metadata": {},
   "outputs": [
    {
     "data": {
      "image/png": "[encoded data removed]",
      "text/plain": [
       "<Figure size 432x288 with 1 Axes>"
      ]
     },
     "metadata": {
      "needs_background": "light"
     },
     "output_type": "display_data"
    }
   ],
   "source": [
    "plt.plot(range(5000), result_incremental[0])\n",
    "plt.plot(range(5000), result_erwa[0])\n",
    "\n",
    "plt.xlabel(\"steps\")\n",
    "plt.ylabel(\"avg reward\")\n",
    "plt.legend([\"incremental\", \"erwa\"])\n",
    "\n",
    "plt.show()"
   ]
  },
  {
   "cell_type": "code",
   "execution_count": 8,
   "metadata": {},
   "outputs": [
    {
     "data": {
      "image/png": "[encoded data removed]",
      "text/plain": [
       "<Figure size 432x288 with 1 Axes>"
      ]
     },
     "metadata": {
      "needs_background": "light"
     },
     "output_type": "display_data"
    }
   ],
   "source": [
    "plt.plot(range(5000), result_incremental[1])\n",
    "plt.plot(range(5000), result_erwa[1])\n",
    "\n",
    "plt.xlabel(\"steps\")\n",
    "plt.ylabel(\"optimal select rate\")\n",
    "plt.legend([\"incremental\", \"erwa\"])\n",
    "\n",
    "plt.show()"
   ]
  }
 ],
 "metadata": {
  "kernelspec": {
   "display_name": "Python 3",
   "language": "python",
   "name": "python3"
  },
  "language_info": {
   "codemirror_mode": {
    "name": "ipython",
    "version": 3
   },
   "file_extension": ".py",
   "mimetype": "text/x-python",
   "name": "python",
   "nbconvert_exporter": "python",
   "pygments_lexer": "ipython3",
   "version": "3.7.4"
  }
 },
 "nbformat": 4,
 "nbformat_minor": 2
}
