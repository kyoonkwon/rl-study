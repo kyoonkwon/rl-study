{
 "cells": [
  {
   "cell_type": "code",
   "execution_count": 1,
   "metadata": {},
   "outputs": [],
   "source": [
    "import matplotlib.pyplot as plt\n",
    "import numpy as np\n",
    "import time\n",
    "import seaborn as sns\n",
    "import pandas as pd"
   ]
  },
  {
   "cell_type": "code",
   "execution_count": 2,
   "metadata": {},
   "outputs": [],
   "source": [
    "def get_reward(action):\n",
    "    return np.random.normal(arms_mean[action], 1)\n",
    "\n",
    "def update_Q_incrementaly(Q, reward, n):\n",
    "    return Q + (reward - Q) / n\n",
    "\n",
    "def update_Q_fixed_interval(alpha, Q1, rewards):\n",
    "    s = 0\n",
    "    for i, R in enumerate(rewards):\n",
    "        s += alpha*((1-alpha)**(len(rewards)-i))*R\n",
    "    return (1-alpha)**len(rewards) * Q1 + s"
   ]
  },
  {
   "cell_type": "code",
   "execution_count": 3,
   "metadata": {},
   "outputs": [],
   "source": [
    "def run_incrementaly(e, arms, n_steps=1000, n_iters=2000):\n",
    "    \n",
    "    stime = time.time()\n",
    "    rewards = np.zeros(n_steps)\n",
    "    iters = 0\n",
    "    \n",
    "    print(\"run e=%f\"%e)\n",
    "\n",
    "    while iters < n_iters:\n",
    "\n",
    "        if iters % 100 == 0: print(\"%d/%d iters\"%(iters, n_iters))\n",
    "\n",
    "        steps = 0\n",
    "        Qs = np.zeros(10)\n",
    "        ns = np.zeros(10)\n",
    "\n",
    "        while steps < n_steps:\n",
    "            if np.random.rand() > e: A = np.argmax(Qs) #np.random.choice(np.argwhere(Qs == np.amax(Qs)).flatten(), 1)\n",
    "            else: A = np.random.randint(10)\n",
    "\n",
    "            reward = get_reward(A)\n",
    "            ns[A] += 1\n",
    "            Qs[A] = update_Q_incrementaly(Qs[A], reward, ns[A])\n",
    "\n",
    "            rewards[steps] += reward\n",
    "            \n",
    "            steps += 1\n",
    "            arms += np.random.normal(0, 0.01, 10)\n",
    "            \n",
    "            \n",
    "        iters += 1\n",
    "        \n",
    "    print(\"done in %fs \\n\"%(time.time()-stime))\n",
    "    \n",
    "    return rewards/n_iters"
   ]
  },
  {
   "cell_type": "code",
   "execution_count": 4,
   "metadata": {},
   "outputs": [
    {
     "name": "stdout",
     "output_type": "stream",
     "text": [
      "run e=0.100000\n",
      "0/200 iters\n",
      "100/200 iters\n",
      "done in 33.663503s \n",
      "\n"
     ]
    }
   ],
   "source": [
    "arms_mean = np.zeros(10)\n",
    "result_incremental = run_incrementaly(0.1, arms_mean, 1000, 200)"
   ]
  },
  {
   "cell_type": "code",
   "execution_count": 5,
   "metadata": {},
   "outputs": [
    {
     "data": {
      "image/png": "[encoded data removed]",
      "text/plain": [
       "<Figure size 432x288 with 1 Axes>"
      ]
     },
     "metadata": {
      "needs_background": "light"
     },
     "output_type": "display_data"
    }
   ],
   "source": [
    "plt.plot(range(1000), result_incremental)\n",
    "\n",
    "plt.xlabel(\"steps\")\n",
    "plt.ylabel(\"avg reward\")\n",
    "\n",
    "plt.show()"
   ]
  },
  {
   "cell_type": "code",
   "execution_count": 6,
   "metadata": {},
   "outputs": [],
   "source": [
    "def run_fixed_interval(e, arms, n_steps=1000, n_iters=2000):\n",
    "    \n",
    "    stime = time.time()\n",
    "    rewards = np.zeros(n_steps)\n",
    "    iters = 0\n",
    "    \n",
    "    print(\"run e=%f\"%e)\n",
    "\n",
    "    while iters < n_iters:\n",
    "\n",
    "        if iters % 10 == 0: print(\"%d/%d iters\"%(iters, n_iters))\n",
    "\n",
    "        steps = 0\n",
    "        Qs = np.zeros(10)\n",
    "        ns = np.zeros(10)\n",
    "\n",
    "        while steps < n_steps:\n",
    "            if np.random.rand() > e: A = np.argmax(Qs) #np.random.choice(np.argwhere(Qs == np.amax(Qs)).flatten(), 1)\n",
    "            else: A = np.random.randint(10)\n",
    "\n",
    "            reward = get_reward(A)\n",
    "            ns[A] += 1\n",
    "            Qs[A] = update_Q_fixed_interval(0.1, 0, rewards[:steps])\n",
    "\n",
    "            rewards[steps] += reward\n",
    "            \n",
    "            steps += 1\n",
    "            arms += np.random.normal(0, 0.01, 10)\n",
    "            \n",
    "            \n",
    "        iters += 1\n",
    "        \n",
    "    print(\"done in %fs \\n\"%(time.time()-stime))\n",
    "    \n",
    "    return rewards/n_iters"
   ]
  },
  {
   "cell_type": "code",
   "execution_count": 7,
   "metadata": {},
   "outputs": [
    {
     "ename": "NameError",
     "evalue": "name 'arms' is not defined",
     "output_type": "error",
     "traceback": [
      "\u001b[0;31m---------------------------------------------------------------------------\u001b[0m",
      "\u001b[0;31mNameError\u001b[0m                                 Traceback (most recent call last)",
      "\u001b[0;32m<ipython-input-7-3bfb52cc1f1d>\u001b[0m in \u001b[0;36m<module>\u001b[0;34m\u001b[0m\n\u001b[0;32m----> 1\u001b[0;31m \u001b[0mresult_fixed_interval\u001b[0m \u001b[0;34m=\u001b[0m \u001b[0mrun_fixed_interval\u001b[0m\u001b[0;34m(\u001b[0m\u001b[0;36m0.1\u001b[0m\u001b[0;34m,\u001b[0m \u001b[0marms\u001b[0m\u001b[0;34m,\u001b[0m \u001b[0;36m1000\u001b[0m\u001b[0;34m,\u001b[0m \u001b[0;36m200\u001b[0m\u001b[0;34m)\u001b[0m\u001b[0;34m\u001b[0m\u001b[0;34m\u001b[0m\u001b[0m\n\u001b[0m",
      "\u001b[0;31mNameError\u001b[0m: name 'arms' is not defined"
     ]
    }
   ],
   "source": [
    "arms_mean = np.zeros(10)\n",
    "result_fixed_interval = run_fixed_interval(0.1, arms_mean, 1000, 200)"
   ]
  },
  {
   "cell_type": "code",
   "execution_count": null,
   "metadata": {},
   "outputs": [],
   "source": [
    "plt.plot(range(1000), result_fixed_interval)\n",
    "\n",
    "plt.xlabel(\"steps\")\n",
    "plt.ylabel(\"avg reward\")\n",
    "\n",
    "plt.show()"
   ]
  }
 ],
 "metadata": {
  "kernelspec": {
   "display_name": "Python 3",
   "language": "python",
   "name": "python3"
  },
  "language_info": {
   "codemirror_mode": {
    "name": "ipython",
    "version": 3
   },
   "file_extension": ".py",
   "mimetype": "text/x-python",
   "name": "python",
   "nbconvert_exporter": "python",
   "pygments_lexer": "ipython3",
   "version": "3.7.4"
  }
 },
 "nbformat": 4,
 "nbformat_minor": 2
}
