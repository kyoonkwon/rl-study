{
 "cells": [
  {
   "cell_type": "code",
   "execution_count": 1,
   "metadata": {},
   "outputs": [],
   "source": [
    "import matplotlib.pyplot as plt\n",
    "import numpy as np\n",
    "import time\n",
    "import seaborn as sns\n",
    "import pandas as pd"
   ]
  },
  {
   "cell_type": "code",
   "execution_count": 2,
   "metadata": {},
   "outputs": [
    {
     "data": {
      "text/plain": [
       "2"
      ]
     },
     "execution_count": 2,
     "metadata": {},
     "output_type": "execute_result"
    }
   ],
   "source": [
    "bandits = [0.1, -0.8, 1.6, 0.2, 1.3, -1.4, -0.1, -1.0, 0.9, -0.5]\n",
    "optimal = np.argmax(bandits)\n",
    "optimal"
   ]
  },
  {
   "cell_type": "code",
   "execution_count": 12,
   "metadata": {},
   "outputs": [
    {
     "data": {
      "text/plain": [
       "array([0.33333333, 0.33333333, 0.33333333])"
      ]
     },
     "execution_count": 12,
     "metadata": {},
     "output_type": "execute_result"
    }
   ],
   "source": [
    "def softmax(H):\n",
    "    e = np.array(list(map(lambda x: np.exp(x), H)))\n",
    "    return e / sum(e)\n",
    "\n",
    "softmax([0.1, 0.1, 0.1])"
   ]
  },
  {
   "cell_type": "code",
   "execution_count": 16,
   "metadata": {},
   "outputs": [],
   "source": [
    "n_steps = 1000\n",
    "\n",
    "def gradient_bandit(alpha, compare=True):\n",
    "    \n",
    "    H = np.zeros(10)\n",
    "    memory_reward = np.zeros(n_steps)\n",
    "    memory_optimal = np.zeros(n_steps)\n",
    "    \n",
    "    for step in range(n_steps):\n",
    "        \n",
    "        action = np.argmax(H)\n",
    "        memory_optimal[step] = optimal == action\n",
    "        \n",
    "        R = np.random.normal(bandits[action], 1)\n",
    "        memory_reward[step] = R\n",
    "        \n",
    "        if compare:\n",
    "            H = H + alpha * (R - np.average(memory_reward[:step+1])) * (np.eye(10)[action] - softmax(H))\n",
    "        else:\n",
    "            H = H + alpha * R * (np.eye(10)[action] - softmax(H))\n",
    "        \n",
    "    return memory_reward, memory_optimal\n",
    "        "
   ]
  },
  {
   "cell_type": "code",
   "execution_count": 24,
   "metadata": {
    "scrolled": true
   },
   "outputs": [
    {
     "name": "stdout",
     "output_type": "stream",
     "text": [
      "0  done\n",
      "100  done\n",
      "200  done\n",
      "300  done\n",
      "400  done\n",
      "500  done\n",
      "600  done\n",
      "700  done\n",
      "800  done\n",
      "900  done\n"
     ]
    }
   ],
   "source": [
    "optimals = [np.zeros(1000), np.zeros(1000), np.zeros(1000), np.zeros(1000)]\n",
    "\n",
    "for i in range(1000):\n",
    "    optimals[0] += gradient_bandit(0.1)[1]\n",
    "    optimals[1] += gradient_bandit(0.1, False)[1]\n",
    "    optimals[2] += gradient_bandit(0.4)[1]\n",
    "    optimals[3] += gradient_bandit(0.4, False)[1]\n",
    "    \n",
    "    if(i%100 == 0): print(i, \" done\")"
   ]
  },
  {
   "cell_type": "code",
   "execution_count": 25,
   "metadata": {},
   "outputs": [
    {
     "data": {
      "image/png": "[encoded data removed]",
      "text/plain": [
       "<Figure size 432x288 with 1 Axes>"
      ]
     },
     "metadata": {
      "needs_background": "light"
     },
     "output_type": "display_data"
    }
   ],
   "source": [
    "plt.plot(range(1000), optimals[0])\n",
    "plt.plot(range(1000), optimals[1])\n",
    "plt.plot(range(1000), optimals[2])\n",
    "plt.plot(range(1000), optimals[3])\n",
    "\n",
    "plt.legend([\"0.1 compare\", \"0.1\", \"0.4 compare\", \"0.4\"])\n",
    "plt.xlabel(\"steps\")\n",
    "plt.ylabel(\"% optimal action\")\n",
    "\n",
    "plt.show()"
   ]
  }
 ],
 "metadata": {
  "kernelspec": {
   "display_name": "Python 3",
   "language": "python",
   "name": "python3"
  },
  "language_info": {
   "codemirror_mode": {
    "name": "ipython",
    "version": 3
   },
   "file_extension": ".py",
   "mimetype": "text/x-python",
   "name": "python",
   "nbconvert_exporter": "python",
   "pygments_lexer": "ipython3",
   "version": "3.7.4"
  }
 },
 "nbformat": 4,
 "nbformat_minor": 2
}
