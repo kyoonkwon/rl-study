{
 "cells": [
  {
   "cell_type": "code",
   "execution_count": 1,
   "metadata": {},
   "outputs": [],
   "source": [
    "import matplotlib.pyplot as plt\n",
    "import numpy as np\n",
    "import time\n",
    "import seaborn as sns\n",
    "import pandas as pd"
   ]
  },
  {
   "cell_type": "code",
   "execution_count": 9,
   "metadata": {},
   "outputs": [
    {
     "data": {
      "text/plain": [
       "array([-0.94462992,  0.6748541 , -1.48034643,  0.14129532,  0.06544443,\n",
       "        3.07673748, -2.17473584, -0.58949368,  0.06451425,  0.34366233])"
      ]
     },
     "execution_count": 9,
     "metadata": {},
     "output_type": "execute_result"
    }
   ],
   "source": [
    "arms = np.random.normal(0, 1, 10)\n",
    "optimal = np.argmax(arms)\n",
    "arms"
   ]
  },
  {
   "cell_type": "code",
   "execution_count": 3,
   "metadata": {},
   "outputs": [],
   "source": [
    "def get_reward(action):\n",
    "    return np.random.normal(arms[action], 1)\n",
    "\n",
    "def update_Q(Q, reward, n):\n",
    "    return Q + (reward - Q) / n"
   ]
  },
  {
   "cell_type": "code",
   "execution_count": 4,
   "metadata": {},
   "outputs": [],
   "source": [
    "def run(e, n_steps=1000, n_iters=2000, oiv=0):\n",
    "    \n",
    "    stime = time.time()\n",
    "    rewards = np.zeros(n_steps)\n",
    "    optimals = np.zeros(n_steps)\n",
    "    iters = 0\n",
    "    alpha = 0.1\n",
    "    \n",
    "    print(\"run e=%f\"%e)\n",
    "\n",
    "    while iters < n_iters:\n",
    "\n",
    "        if iters % 100 == 0: print(\"%d/%d iters\"%(iters, n_iters))\n",
    "\n",
    "        steps = 0\n",
    "        Qs = np.ones(10) * oiv\n",
    "\n",
    "        while steps < n_steps:\n",
    "            if np.random.rand() > e: A = np.argmax(Qs) #np.random.choice(np.argwhere(Qs == np.amax(Qs)).flatten(), 1)\n",
    "            else: A = np.random.randint(10)\n",
    "\n",
    "            reward = get_reward(A)\n",
    "            Qs[A] = Qs[A] + alpha * (reward - Qs[A])\n",
    "\n",
    "            rewards[steps] += reward\n",
    "            if A == np.argmax(arms):\n",
    "                optimals[steps] += 1\n",
    "            steps += 1\n",
    "\n",
    "        iters += 1\n",
    "        \n",
    "    print(\"done in %fs \\n\"%(time.time()-stime))\n",
    "    \n",
    "    return rewards/n_iters, optimals/n_iters\n"
   ]
  },
  {
   "cell_type": "code",
   "execution_count": 10,
   "metadata": {},
   "outputs": [
    {
     "name": "stdout",
     "output_type": "stream",
     "text": [
      "run e=0.100000\n",
      "0/2000 iters\n",
      "100/2000 iters\n",
      "200/2000 iters\n",
      "300/2000 iters\n",
      "400/2000 iters\n",
      "500/2000 iters\n",
      "600/2000 iters\n",
      "700/2000 iters\n",
      "800/2000 iters\n",
      "900/2000 iters\n",
      "1000/2000 iters\n",
      "1100/2000 iters\n",
      "1200/2000 iters\n",
      "1300/2000 iters\n",
      "1400/2000 iters\n",
      "1500/2000 iters\n",
      "1600/2000 iters\n",
      "1700/2000 iters\n",
      "1800/2000 iters\n",
      "1900/2000 iters\n",
      "done in 125.144307s \n",
      "\n",
      "run e=0.000000\n",
      "0/2000 iters\n",
      "100/2000 iters\n",
      "200/2000 iters\n",
      "300/2000 iters\n",
      "400/2000 iters\n",
      "500/2000 iters\n",
      "600/2000 iters\n",
      "700/2000 iters\n",
      "800/2000 iters\n",
      "900/2000 iters\n",
      "1000/2000 iters\n",
      "1100/2000 iters\n",
      "1200/2000 iters\n",
      "1300/2000 iters\n",
      "1400/2000 iters\n",
      "1500/2000 iters\n",
      "1600/2000 iters\n",
      "1700/2000 iters\n",
      "1800/2000 iters\n",
      "1900/2000 iters\n",
      "done in 115.514598s \n",
      "\n"
     ]
    }
   ],
   "source": [
    "result = [0, 0]\n",
    "result[0] = run(0.1, 1000, 2000, 0)\n",
    "result[1] = run(0, 1000, 2000, 5)"
   ]
  },
  {
   "cell_type": "code",
   "execution_count": 11,
   "metadata": {},
   "outputs": [
    {
     "data": {
      "image/png": "[encoded data removed]",
      "text/plain": [
       "<Figure size 432x288 with 1 Axes>"
      ]
     },
     "metadata": {
      "needs_background": "light"
     },
     "output_type": "display_data"
    }
   ],
   "source": [
    "plt.plot(range(1000), result[0][1])\n",
    "plt.plot(range(1000), result[1][1])\n",
    "\n",
    "plt.legend(['Q1=0, e=0.1', 'Q1=5, e=0'])\n",
    "plt.xlabel(\"steps\")\n",
    "plt.ylabel(\"% optimal action\")\n",
    "\n",
    "plt.show()"
   ]
  }
 ],
 "metadata": {
  "kernelspec": {
   "display_name": "Python 3",
   "language": "python",
   "name": "python3"
  },
  "language_info": {
   "codemirror_mode": {
    "name": "ipython",
    "version": 3
   },
   "file_extension": ".py",
   "mimetype": "text/x-python",
   "name": "python",
   "nbconvert_exporter": "python",
   "pygments_lexer": "ipython3",
   "version": "3.7.4"
  }
 },
 "nbformat": 4,
 "nbformat_minor": 2
}
